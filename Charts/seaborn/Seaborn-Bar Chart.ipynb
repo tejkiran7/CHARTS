{
 "cells": [
  {
   "cell_type": "code",
   "execution_count": 1,
   "metadata": {},
   "outputs": [],
   "source": [
    "import seaborn as sns\n",
    "import pandas as pd\n",
    "\n",
    "import warnings\n",
    "warnings.filterwarnings('always')\n",
    "warnings.filterwarnings('ignore')\n"
   ]
  },
  {
   "cell_type": "code",
   "execution_count": 2,
   "metadata": {},
   "outputs": [
    {
     "data": {
      "text/html": [
       "<div>\n",
       "<style scoped>\n",
       "    .dataframe tbody tr th:only-of-type {\n",
       "        vertical-align: middle;\n",
       "    }\n",
       "\n",
       "    .dataframe tbody tr th {\n",
       "        vertical-align: top;\n",
       "    }\n",
       "\n",
       "    .dataframe thead th {\n",
       "        text-align: right;\n",
       "    }\n",
       "</style>\n",
       "<table border=\"1\" class=\"dataframe\">\n",
       "  <thead>\n",
       "    <tr style=\"text-align: right;\">\n",
       "      <th></th>\n",
       "      <th>Row ID</th>\n",
       "      <th>Order ID</th>\n",
       "      <th>Order Date</th>\n",
       "      <th>Order Priority</th>\n",
       "      <th>Order Quantity</th>\n",
       "      <th>Sales</th>\n",
       "      <th>Discount</th>\n",
       "      <th>Ship Mode</th>\n",
       "      <th>Profit</th>\n",
       "      <th>Unit Price</th>\n",
       "      <th>...</th>\n",
       "      <th>Customer Name</th>\n",
       "      <th>Province</th>\n",
       "      <th>Region</th>\n",
       "      <th>Customer Segment</th>\n",
       "      <th>Product Category</th>\n",
       "      <th>Product Sub-Category</th>\n",
       "      <th>Product Name</th>\n",
       "      <th>Product Container</th>\n",
       "      <th>Product Base Margin</th>\n",
       "      <th>Ship Date</th>\n",
       "    </tr>\n",
       "  </thead>\n",
       "  <tbody>\n",
       "    <tr>\n",
       "      <th>0</th>\n",
       "      <td>1</td>\n",
       "      <td>3</td>\n",
       "      <td>13-10-2010</td>\n",
       "      <td>Low</td>\n",
       "      <td>6</td>\n",
       "      <td>261.5400</td>\n",
       "      <td>0.04</td>\n",
       "      <td>Regular Air</td>\n",
       "      <td>-213.25</td>\n",
       "      <td>38.94</td>\n",
       "      <td>...</td>\n",
       "      <td>Muhammed MacIntyre</td>\n",
       "      <td>Nunavut</td>\n",
       "      <td>Nunavut</td>\n",
       "      <td>Small Business</td>\n",
       "      <td>Office Supplies</td>\n",
       "      <td>Storage &amp; Organization</td>\n",
       "      <td>Eldon Base for stackable storage shelf, platinum</td>\n",
       "      <td>Large Box</td>\n",
       "      <td>0.80</td>\n",
       "      <td>20-10-2010</td>\n",
       "    </tr>\n",
       "    <tr>\n",
       "      <th>1</th>\n",
       "      <td>49</td>\n",
       "      <td>293</td>\n",
       "      <td>01-10-2012</td>\n",
       "      <td>High</td>\n",
       "      <td>49</td>\n",
       "      <td>10123.0200</td>\n",
       "      <td>0.07</td>\n",
       "      <td>Delivery Truck</td>\n",
       "      <td>457.81</td>\n",
       "      <td>208.16</td>\n",
       "      <td>...</td>\n",
       "      <td>Barry French</td>\n",
       "      <td>Nunavut</td>\n",
       "      <td>Nunavut</td>\n",
       "      <td>Consumer</td>\n",
       "      <td>Office Supplies</td>\n",
       "      <td>Appliances</td>\n",
       "      <td>1.7 Cubic Foot Compact \"Cube\" Office Refrigera...</td>\n",
       "      <td>Jumbo Drum</td>\n",
       "      <td>0.58</td>\n",
       "      <td>02-10-2012</td>\n",
       "    </tr>\n",
       "    <tr>\n",
       "      <th>2</th>\n",
       "      <td>50</td>\n",
       "      <td>293</td>\n",
       "      <td>01-10-2012</td>\n",
       "      <td>High</td>\n",
       "      <td>27</td>\n",
       "      <td>244.5700</td>\n",
       "      <td>0.01</td>\n",
       "      <td>Regular Air</td>\n",
       "      <td>46.71</td>\n",
       "      <td>8.69</td>\n",
       "      <td>...</td>\n",
       "      <td>Barry French</td>\n",
       "      <td>Nunavut</td>\n",
       "      <td>Nunavut</td>\n",
       "      <td>Consumer</td>\n",
       "      <td>Office Supplies</td>\n",
       "      <td>Binders and Binder Accessories</td>\n",
       "      <td>Cardinal Slant-D® Ring Binder, Heavy Gauge Vinyl</td>\n",
       "      <td>Small Box</td>\n",
       "      <td>0.39</td>\n",
       "      <td>03-10-2012</td>\n",
       "    </tr>\n",
       "    <tr>\n",
       "      <th>3</th>\n",
       "      <td>80</td>\n",
       "      <td>483</td>\n",
       "      <td>10-07-2011</td>\n",
       "      <td>High</td>\n",
       "      <td>30</td>\n",
       "      <td>4965.7595</td>\n",
       "      <td>0.08</td>\n",
       "      <td>Regular Air</td>\n",
       "      <td>1198.97</td>\n",
       "      <td>195.99</td>\n",
       "      <td>...</td>\n",
       "      <td>Clay Rozendal</td>\n",
       "      <td>Nunavut</td>\n",
       "      <td>Nunavut</td>\n",
       "      <td>Corporate</td>\n",
       "      <td>Technology</td>\n",
       "      <td>Telephones and Communication</td>\n",
       "      <td>R380</td>\n",
       "      <td>Small Box</td>\n",
       "      <td>0.58</td>\n",
       "      <td>12-07-2011</td>\n",
       "    </tr>\n",
       "    <tr>\n",
       "      <th>4</th>\n",
       "      <td>85</td>\n",
       "      <td>515</td>\n",
       "      <td>28-08-2010</td>\n",
       "      <td>Not Specified</td>\n",
       "      <td>19</td>\n",
       "      <td>394.2700</td>\n",
       "      <td>0.08</td>\n",
       "      <td>Regular Air</td>\n",
       "      <td>30.94</td>\n",
       "      <td>21.78</td>\n",
       "      <td>...</td>\n",
       "      <td>Carlos Soltero</td>\n",
       "      <td>Nunavut</td>\n",
       "      <td>Nunavut</td>\n",
       "      <td>Consumer</td>\n",
       "      <td>Office Supplies</td>\n",
       "      <td>Appliances</td>\n",
       "      <td>Holmes HEPA Air Purifier</td>\n",
       "      <td>Medium Box</td>\n",
       "      <td>0.50</td>\n",
       "      <td>30-08-2010</td>\n",
       "    </tr>\n",
       "  </tbody>\n",
       "</table>\n",
       "<p>5 rows × 21 columns</p>\n",
       "</div>"
      ],
      "text/plain": [
       "   Row ID  Order ID  Order Date Order Priority  Order Quantity       Sales  \\\n",
       "0       1         3  13-10-2010            Low               6    261.5400   \n",
       "1      49       293  01-10-2012           High              49  10123.0200   \n",
       "2      50       293  01-10-2012           High              27    244.5700   \n",
       "3      80       483  10-07-2011           High              30   4965.7595   \n",
       "4      85       515  28-08-2010  Not Specified              19    394.2700   \n",
       "\n",
       "   Discount       Ship Mode   Profit  Unit Price  ...       Customer Name  \\\n",
       "0      0.04     Regular Air  -213.25       38.94  ...  Muhammed MacIntyre   \n",
       "1      0.07  Delivery Truck   457.81      208.16  ...        Barry French   \n",
       "2      0.01     Regular Air    46.71        8.69  ...        Barry French   \n",
       "3      0.08     Regular Air  1198.97      195.99  ...       Clay Rozendal   \n",
       "4      0.08     Regular Air    30.94       21.78  ...      Carlos Soltero   \n",
       "\n",
       "  Province   Region Customer Segment Product Category  \\\n",
       "0  Nunavut  Nunavut   Small Business  Office Supplies   \n",
       "1  Nunavut  Nunavut         Consumer  Office Supplies   \n",
       "2  Nunavut  Nunavut         Consumer  Office Supplies   \n",
       "3  Nunavut  Nunavut        Corporate       Technology   \n",
       "4  Nunavut  Nunavut         Consumer  Office Supplies   \n",
       "\n",
       "             Product Sub-Category  \\\n",
       "0          Storage & Organization   \n",
       "1                      Appliances   \n",
       "2  Binders and Binder Accessories   \n",
       "3    Telephones and Communication   \n",
       "4                      Appliances   \n",
       "\n",
       "                                        Product Name Product Container  \\\n",
       "0   Eldon Base for stackable storage shelf, platinum         Large Box   \n",
       "1  1.7 Cubic Foot Compact \"Cube\" Office Refrigera...        Jumbo Drum   \n",
       "2   Cardinal Slant-D® Ring Binder, Heavy Gauge Vinyl         Small Box   \n",
       "3                                               R380         Small Box   \n",
       "4                           Holmes HEPA Air Purifier        Medium Box   \n",
       "\n",
       "  Product Base Margin   Ship Date  \n",
       "0                0.80  20-10-2010  \n",
       "1                0.58  02-10-2012  \n",
       "2                0.39  03-10-2012  \n",
       "3                0.58  12-07-2011  \n",
       "4                0.50  30-08-2010  \n",
       "\n",
       "[5 rows x 21 columns]"
      ]
     },
     "execution_count": 2,
     "metadata": {},
     "output_type": "execute_result"
    }
   ],
   "source": [
    "df=pd.read_csv(r\"C:\\Users\\TEJKIRAN\\Desktop\\sales.csv\",engine ='python')\n",
    "df.head()"
   ]
  },
  {
   "cell_type": "code",
   "execution_count": 3,
   "metadata": {},
   "outputs": [
    {
     "data": {
      "text/plain": [
       "<seaborn.axisgrid.FacetGrid at 0x23bbccd84c8>"
      ]
     },
     "execution_count": 3,
     "metadata": {},
     "output_type": "execute_result"
    },
    {
     "data": {
      "image/png": "[encoded data removed]",
      "text/plain": [
       "<Figure size 360x360 with 1 Axes>"
      ]
     },
     "metadata": {
      "needs_background": "light"
     },
     "output_type": "display_data"
    }
   ],
   "source": [
    "sns.catplot(\"Product Category\",\"Sales\",data=df,kind=\"bar\")"
   ]
  },
  {
   "cell_type": "code",
   "execution_count": 4,
   "metadata": {},
   "outputs": [
    {
     "data": {
      "text/plain": [
       "Index(['Row ID', 'Order ID', 'Order Date', 'Order Priority', 'Order Quantity',\n",
       "       'Sales', 'Discount', 'Ship Mode', 'Profit', 'Unit Price',\n",
       "       'Shipping Cost', 'Customer Name', 'Province', 'Region',\n",
       "       'Customer Segment', 'Product Category', 'Product Sub-Category',\n",
       "       'Product Name', 'Product Container', 'Product Base Margin',\n",
       "       'Ship Date'],\n",
       "      dtype='object')"
      ]
     },
     "execution_count": 4,
     "metadata": {},
     "output_type": "execute_result"
    }
   ],
   "source": [
    "df.columns\n"
   ]
  },
  {
   "cell_type": "code",
   "execution_count": 5,
   "metadata": {},
   "outputs": [
    {
     "data": {
      "text/plain": [
       "<seaborn.axisgrid.FacetGrid at 0x23bbcd1c888>"
      ]
     },
     "execution_count": 5,
     "metadata": {},
     "output_type": "execute_result"
    },
    {
     "data": {
      "image/png": "[encoded data removed]",
      "text/plain": [
       "<Figure size 467x360 with 1 Axes>"
      ]
     },
     "metadata": {
      "needs_background": "light"
     },
     "output_type": "display_data"
    }
   ],
   "source": [
    "sns.catplot(\"Product Category\",\"Sales\",data=df,hue=\"Ship Mode\",kind=\"bar\")"
   ]
  },
  {
   "cell_type": "code",
   "execution_count": 6,
   "metadata": {},
   "outputs": [
    {
     "data": {
      "text/plain": [
       "<seaborn.axisgrid.FacetGrid at 0x23bbcd4fd88>"
      ]
     },
     "execution_count": 6,
     "metadata": {},
     "output_type": "execute_result"
    },
    {
     "data": {
      "image/png": "[encoded data removed]",
      "text/plain": [
       "<Figure size 1547x360 with 4 Axes>"
      ]
     },
     "metadata": {
      "needs_background": "light"
     },
     "output_type": "display_data"
    }
   ],
   "source": [
    "sns.catplot(\"Product Category\",\"Sales\",data=df,hue=\"Ship Mode\",col=\"Customer Segment\",kind=\"bar\")"
   ]
  },
  {
   "cell_type": "code",
   "execution_count": null,
   "metadata": {},
   "outputs": [],
   "source": []
  }
 ],
 "metadata": {
  "kernelspec": {
   "display_name": "Python 3",
   "language": "python",
   "name": "python3"
  },
  "language_info": {
   "codemirror_mode": {
    "name": "ipython",
    "version": 3
   },
   "file_extension": ".py",
   "mimetype": "text/x-python",
   "name": "python",
   "nbconvert_exporter": "python",
   "pygments_lexer": "ipython3",
   "version": "3.7.9"
  }
 },
 "nbformat": 4,
 "nbformat_minor": 4
}
